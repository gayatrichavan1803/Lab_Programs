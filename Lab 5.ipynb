{
 "cells": [
  {
   "cell_type": "code",
   "execution_count": 7,
   "id": "97175520-61be-4cbe-96ef-df32b37d6aaa",
   "metadata": {},
   "outputs": [
    {
     "name": "stdout",
     "output_type": "stream",
     "text": [
      "Choose an operation:\n",
      "1. Addition (+)\n",
      "2. Subtraction (-)\n",
      "3. Multiplication (*)\n",
      "4. Division (/)\n",
      "5. Modulus (%)\n"
     ]
    },
    {
     "name": "stdin",
     "output_type": "stream",
     "text": [
      "Enter choice (1/2/3/4/5):  2\n",
      "Enter first number:  4\n",
      "Enter second number:  -6\n"
     ]
    },
    {
     "name": "stdout",
     "output_type": "stream",
     "text": [
      "Result = 10.0\n"
     ]
    }
   ],
   "source": [
    "#Write a program to accept a choice from the user and create a calculator\n",
    "\n",
    "#Displaying menu\n",
    "print(\"Choose an operation:\")\n",
    "print(\"1. Addition (+)\")\n",
    "print(\"2. Subtraction (-)\")\n",
    "print(\"3. Multiplication (*)\")\n",
    "print(\"4. Division (/)\")\n",
    "print(\"5. Modulus (%)\")\n",
    "\n",
    "#Accept user's choice\n",
    "choice = input(\"Enter choice (1/2/3/4/5): \")\n",
    "\n",
    "#Accept two numbers from the user\n",
    "num1 = float(input(\"Enter first number: \"))\n",
    "num2 = float(input(\"Enter second number: \"))\n",
    "\n",
    "#Perform operation based on user's choice\n",
    "if choice == '1':\n",
    "    print(\"Result =\", num1 + num2)\n",
    "elif choice == '2':\n",
    "    print(\"Result =\", num1 - num2)\n",
    "elif choice == '3':\n",
    "    print(\"Result =\", num1 * num2)\n",
    "elif choice == '4':\n",
    "    print(\"Result =\", num1 / num2 if b != 0 else \"Error: divide by zero\")\n",
    "elif choice == '5':\n",
    "    print(\"Result =\", num1 % num2)\n",
    "else:\n",
    "    print(\"Invalid choice\")"
   ]
  },
  {
   "cell_type": "code",
   "execution_count": 8,
   "id": "f7de1007-adad-49ec-a607-a5005d9e39fb",
   "metadata": {},
   "outputs": [
    {
     "name": "stdin",
     "output_type": "stream",
     "text": [
      "Enter student name:  abc\n",
      "Enter roll number:  23\n"
     ]
    },
    {
     "name": "stdout",
     "output_type": "stream",
     "text": [
      "Enter marks for 5 subjects (out of 100):\n"
     ]
    },
    {
     "name": "stdin",
     "output_type": "stream",
     "text": [
      "Subject 1:  80\n",
      "Subject 2:  90\n",
      "Subject 3:  95\n",
      "Subject 4:  98\n",
      "Subject 5:  99\n"
     ]
    },
    {
     "name": "stdout",
     "output_type": "stream",
     "text": [
      "\n",
      "----- Student Result -----\n",
      "Name: abc\n",
      "Roll No: 23\n",
      "Total Marks: 462.0\n",
      "Percentage: 92.4 %\n",
      "Grade: O\n"
     ]
    }
   ],
   "source": [
    "#Write a program to accept student name, roll no, marks of 5 subject and calculate percentage and grade\n",
    "\n",
    "#Input student details\n",
    "name = input(\"Enter student name: \")\n",
    "roll_no = input(\"Enter roll number: \")\n",
    "\n",
    "#Input marks of 5 subjects\n",
    "print(\"Enter marks for 5 subjects (out of 100):\")\n",
    "m1 = float(input(\"Subject 1: \"))\n",
    "m2 = float(input(\"Subject 2: \"))\n",
    "m3 = float(input(\"Subject 3: \"))\n",
    "m4 = float(input(\"Subject 4: \"))\n",
    "m5 = float(input(\"Subject 5: \"))\n",
    "\n",
    "#Calculate total and percentage\n",
    "total = m1 + m2 + m3 + m4 + m5\n",
    "percentage = (total / 500) * 100\n",
    "\n",
    "#Assign grade based on percentage\n",
    "if percentage >= 90:\n",
    "    grade = 'O'\n",
    "elif percentage >= 80:\n",
    "    grade = 'A'\n",
    "elif percentage >= 70:\n",
    "    grade = 'B'\n",
    "elif percentage >= 60:\n",
    "    grade = 'C'\n",
    "elif percentage >= 50:\n",
    "    grade = 'D'\n",
    "elif percentage >= 40:\n",
    "    grade = 'P'\n",
    "else:\n",
    "    grade = 'F (Fail)'\n",
    "\n",
    "#Display result\n",
    "print(\"\\n----- Student Result -----\")\n",
    "print(\"Name:\", name)\n",
    "print(\"Roll No:\", roll_no)\n",
    "print(\"Total Marks:\", total)\n",
    "print(\"Percentage:\", percentage, \"%\")\n",
    "print(\"Grade:\", grade)"
   ]
  },
  {
   "cell_type": "code",
   "execution_count": null,
   "id": "a38daf9e-17e4-4912-b97f-7f79c4f611e1",
   "metadata": {},
   "outputs": [],
   "source": []
  }
 ],
 "metadata": {
  "kernelspec": {
   "display_name": "Python 3 (ipykernel)",
   "language": "python",
   "name": "python3"
  },
  "language_info": {
   "codemirror_mode": {
    "name": "ipython",
    "version": 3
   },
   "file_extension": ".py",
   "mimetype": "text/x-python",
   "name": "python",
   "nbconvert_exporter": "python",
   "pygments_lexer": "ipython3",
   "version": "3.12.7"
  }
 },
 "nbformat": 4,
 "nbformat_minor": 5
}
