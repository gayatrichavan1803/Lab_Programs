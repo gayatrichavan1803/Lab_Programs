{
 "cells": [
  {
   "cell_type": "code",
   "execution_count": 4,
   "id": "a160db3b-6b98-4a09-8e2b-9335a8f5c301",
   "metadata": {},
   "outputs": [
    {
     "name": "stdin",
     "output_type": "stream",
     "text": [
      "Enter a year:  2025\n"
     ]
    },
    {
     "name": "stdout",
     "output_type": "stream",
     "text": [
      "2025 is not a leap year.\n"
     ]
    }
   ],
   "source": [
    "#Python program to check leap year\n",
    "year = int(input(\"Enter a year: \"))\n",
    "\n",
    "#Condition\n",
    "if (year % 4 == 0 and year % 100 != 0) or (year % 400 == 0):\n",
    "    print(year, \"is a leap year.\")\n",
    "else:\n",
    "    print(year, \"is not a leap year.\")"
   ]
  },
  {
   "cell_type": "code",
   "execution_count": 5,
   "id": "bca272bb-ef19-4973-947f-5562b58e93f3",
   "metadata": {},
   "outputs": [
    {
     "name": "stdin",
     "output_type": "stream",
     "text": [
      "Enter first number:  5\n",
      "Enter second number:  10.5\n",
      "Enter third number:  2.7\n"
     ]
    },
    {
     "name": "stdout",
     "output_type": "stream",
     "text": [
      "The largest number is: 10.5\n"
     ]
    }
   ],
   "source": [
    "#Python Program to Find the Largest Among Three Numbers\n",
    "num1 = float(input(\"Enter first number: \"))\n",
    "num2 = float(input(\"Enter second number: \"))\n",
    "num3 = float(input(\"Enter third number: \"))\n",
    "\n",
    "#Finding the largest\n",
    "if (num1 >= num2) and (num1 >= num3):\n",
    "    largest = num1\n",
    "elif (num2 >= num1) and (num2 >= num3):\n",
    "    largest = num2\n",
    "else:\n",
    "    largest = num3\n",
    "\n",
    "#Display result\n",
    "print(\"The largest number is:\", largest)"
   ]
  },
  {
   "cell_type": "code",
   "execution_count": 6,
   "id": "ab9bbb2a-105c-4224-ace6-03d57c602030",
   "metadata": {},
   "outputs": [
    {
     "name": "stdin",
     "output_type": "stream",
     "text": [
      "Enter a number:  -10\n"
     ]
    },
    {
     "name": "stdout",
     "output_type": "stream",
     "text": [
      "The number is Negative.\n"
     ]
    }
   ],
   "source": [
    "#Python Program to Check if a Number is Positive, Negative or 0\n",
    "\n",
    "#Take input from user\n",
    "num = float(input(\"Enter a number: \"))\n",
    "\n",
    "#Check if the number is positive, negative or zero\n",
    "if num > 0:\n",
    "    print(\"The number is Positive.\")\n",
    "elif num < 0:\n",
    "    print(\"The number is Negative.\")\n",
    "else:\n",
    "    print(\"The number is Zero.\")"
   ]
  },
  {
   "cell_type": "code",
   "execution_count": 8,
   "id": "dd9e9dd5-f709-4f66-a4d0-9304ae493ff8",
   "metadata": {},
   "outputs": [
    {
     "name": "stdin",
     "output_type": "stream",
     "text": [
      "Enter the product code (1, 2, or 3):  2\n",
      "Enter the order amount (in Rs):  550\n"
     ]
    },
    {
     "name": "stdout",
     "output_type": "stream",
     "text": [
      "Discount applied: ₹ 27.5\n",
      "Net amount to be paid: ₹ 522.5\n"
     ]
    }
   ],
   "source": [
    "#Write a program that reads the product code and the order amount and prints out the net amount that the customer is required to pay after the discount.\n",
    "\n",
    "#Read product code and order amount from user\n",
    "product_code = int(input(\"Enter the product code (1, 2, or 3): \"))\n",
    "order_amount = float(input(\"Enter the order amount (in Rs): \"))\n",
    "\n",
    "#Initialize discount\n",
    "discount = 0\n",
    "\n",
    "#Apply discount based on product code\n",
    "if product_code == 1:  #Battery Based Toys\n",
    "    if order_amount > 1000:\n",
    "        discount = 0.10 * order_amount\n",
    "\n",
    "elif product_code == 2:  #Key-based Toys\n",
    "    if order_amount > 100:\n",
    "        discount = 0.05 * order_amount\n",
    "\n",
    "elif product_code == 3:  #Electrical Charging Based Toys\n",
    "    if order_amount > 500:\n",
    "        discount = 0.10 * order_amount\n",
    "\n",
    "else:\n",
    "    print(\"Invalid product code entered.\")\n",
    "\n",
    "#Calculate final amount\n",
    "if product_code in [1, 2, 3]:\n",
    "    net_amount = order_amount - discount\n",
    "    print(\"Discount applied: ₹\", discount)\n",
    "    print(\"Net amount to be paid: ₹\", net_amount)"
   ]
  }
 ],
 "metadata": {
  "kernelspec": {
   "display_name": "Python 3 (ipykernel)",
   "language": "python",
   "name": "python3"
  },
  "language_info": {
   "codemirror_mode": {
    "name": "ipython",
    "version": 3
   },
   "file_extension": ".py",
   "mimetype": "text/x-python",
   "name": "python",
   "nbconvert_exporter": "python",
   "pygments_lexer": "ipython3",
   "version": "3.12.7"
  }
 },
 "nbformat": 4,
 "nbformat_minor": 5
}
