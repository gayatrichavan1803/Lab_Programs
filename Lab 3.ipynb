{
 "cells": [
  {
   "cell_type": "code",
   "execution_count": 5,
   "id": "7d0b2ce8-3d99-4249-97c3-2e0f88084d72",
   "metadata": {},
   "outputs": [
    {
     "name": "stdin",
     "output_type": "stream",
     "text": [
      "Enter a number:  2\n"
     ]
    },
    {
     "name": "stdout",
     "output_type": "stream",
     "text": [
      "Number is Even\n"
     ]
    }
   ],
   "source": [
    "#Using input() function take one number from the user and using ternary operators check whether the number is even or odd\n",
    "num = int(input(\"Enter a number: \"))\n",
    "\n",
    "#Check whether a is odd or even\n",
    "result = \"Even\" if num % 2 == 0 else \"Odd\"\n",
    "\n",
    "print(\"Number is\", result) "
   ]
  },
  {
   "cell_type": "code",
   "execution_count": 7,
   "id": "73979fb7-974b-4186-b150-5f2cf185e78b",
   "metadata": {},
   "outputs": [
    {
     "name": "stdin",
     "output_type": "stream",
     "text": [
      "Enter first number:  2\n",
      "Enter second number:  4\n"
     ]
    },
    {
     "name": "stdout",
     "output_type": "stream",
     "text": [
      "After Swapping: \n",
      "First number:  4\n",
      "Second number:  2\n"
     ]
    }
   ],
   "source": [
    "#Using input function take two number and then swap the number\n",
    "a = int(input(\"Enter first number: \"))\n",
    "b = int(input(\"Enter second number: \"))\n",
    "\n",
    "#Swap\n",
    "a,b = b,a\n",
    "\n",
    "print(\"After Swapping: \")\n",
    "print(\"First number: \",a)\n",
    "print(\"Second number: \",b)"
   ]
  },
  {
   "cell_type": "code",
   "execution_count": 12,
   "id": "fab67340-46d7-4cc7-bc58-e8c014742ca7",
   "metadata": {},
   "outputs": [
    {
     "name": "stdin",
     "output_type": "stream",
     "text": [
      "Enter distance in kilometers:  165\n"
     ]
    },
    {
     "name": "stdout",
     "output_type": "stream",
     "text": [
      "165.0 kilometers is equal to 102.52621500000001 miles.\n"
     ]
    }
   ],
   "source": [
    "# Write a Program to Convert Kilometers to Miles\n",
    "km = float(input(\"Enter distance in kilometers: \"))\n",
    "\n",
    "#Convert to miles\n",
    "miles = km * 0.621371\n",
    "\n",
    "print(f\"{km} kilometers is equal to {miles} miles.\")"
   ]
  },
  {
   "cell_type": "code",
   "execution_count": 21,
   "id": "24182cb9-5c83-4db6-84e3-cf6b4d4282ca",
   "metadata": {},
   "outputs": [
    {
     "name": "stdout",
     "output_type": "stream",
     "text": [
      "The Simple Interest for 5 yrs at 5% is Rs. 50.0\n"
     ]
    }
   ],
   "source": [
    "#Find the Simple Interest on Rs. 200 for 5 years at 5% per year\n",
    "P = 200    #Principle in Rs.\n",
    "T = 5      #Duration in yrs\n",
    "R = 5      #Rate of Interest in %\n",
    "\n",
    "#Simple Interest Formula\n",
    "SI = (P * R * T) / 100\n",
    "\n",
    "print(\"The Simple Interest for 5 yrs at 5% is Rs.\",SI)"
   ]
  }
 ],
 "metadata": {
  "kernelspec": {
   "display_name": "Python 3 (ipykernel)",
   "language": "python",
   "name": "python3"
  },
  "language_info": {
   "codemirror_mode": {
    "name": "ipython",
    "version": 3
   },
   "file_extension": ".py",
   "mimetype": "text/x-python",
   "name": "python",
   "nbconvert_exporter": "python",
   "pygments_lexer": "ipython3",
   "version": "3.12.7"
  }
 },
 "nbformat": 4,
 "nbformat_minor": 5
}
