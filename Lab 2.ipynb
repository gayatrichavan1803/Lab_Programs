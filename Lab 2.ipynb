{
 "cells": [
  {
   "cell_type": "code",
   "execution_count": 1,
   "id": "60e8c1c2-0bd0-414f-ac72-bfd79dcb86a2",
   "metadata": {},
   "outputs": [
    {
     "name": "stdout",
     "output_type": "stream",
     "text": [
      "Addition of a and b =  30\n",
      "Multiplication of a and b =  200\n"
     ]
    }
   ],
   "source": [
    "#Calculate the multiplication and sum of two numbers\n",
    "a=10\n",
    "b=20\n",
    "\n",
    "#Addition of two numbers\n",
    "sum = a+b\n",
    "\n",
    "#Multiplication of two numbers\n",
    "multiplication = a*b\n",
    "\n",
    "print(\"Addition of a and b = \", sum)\n",
    "print(\"Multiplication of a and b = \", multiplication) "
   ]
  },
  {
   "cell_type": "code",
   "execution_count": 2,
   "id": "5b93c0ce-735c-45f1-b6f7-f49d365f7289",
   "metadata": {},
   "outputs": [
    {
     "name": "stdout",
     "output_type": "stream",
     "text": [
      "The largest number is: 50\n"
     ]
    }
   ],
   "source": [
    "#Declare two variables and print that which variable is largest using ternary operators\n",
    "a=40\n",
    "b=50\n",
    "\n",
    "#Find largest variable\n",
    "largest = a if a > b else b \n",
    "\n",
    "print(\"The largest number is:\", largest)"
   ]
  },
  {
   "cell_type": "code",
   "execution_count": 6,
   "id": "99182d16-2c4d-466a-8262-330f77c863f9",
   "metadata": {},
   "outputs": [
    {
     "name": "stdout",
     "output_type": "stream",
     "text": [
      "Temperature in Fahrenheit:  98.6\n"
     ]
    }
   ],
   "source": [
    "#Python program to convert the temperature in degree centigrade to Fahrenheit\n",
    "celsius=25\n",
    "\n",
    "#Convert to Fahrenheit\n",
    "# Formula: (C × 9/5) + 32 = F\n",
    "farenheit = (celsius * 9/5) + 32\n",
    "\n",
    "print(\"Temperature in Fahrenheit: \", fahrenheit)"
   ]
  },
  {
   "cell_type": "code",
   "execution_count": 10,
   "id": "6ac4da0d-c13f-4fc3-921a-fb935d9b82f0",
   "metadata": {},
   "outputs": [
    {
     "name": "stdout",
     "output_type": "stream",
     "text": [
      "Area of triangle is:  11.61895003862225\n"
     ]
    }
   ],
   "source": [
    "#Python program to find the area of a triangle whose sides are given\n",
    "a=4\n",
    "b=6\n",
    "c=8\n",
    "\n",
    "#Semi-perimeter of triangle\n",
    "s = (a+b+c) / 2 \n",
    "\n",
    "#Area of triangle \n",
    "area = (s * (s - a) * (s - b) * (s - c)) ** 0.5\n",
    "\n",
    "print(\"Area of triangle is: \", area)"
   ]
  },
  {
   "cell_type": "code",
   "execution_count": null,
   "id": "8bd321db-d6ca-4c79-920e-da33d627cb38",
   "metadata": {},
   "outputs": [],
   "source": []
  }
 ],
 "metadata": {
  "kernelspec": {
   "display_name": "Python 3 (ipykernel)",
   "language": "python",
   "name": "python3"
  },
  "language_info": {
   "codemirror_mode": {
    "name": "ipython",
    "version": 3
   },
   "file_extension": ".py",
   "mimetype": "text/x-python",
   "name": "python",
   "nbconvert_exporter": "python",
   "pygments_lexer": "ipython3",
   "version": "3.12.7"
  }
 },
 "nbformat": 4,
 "nbformat_minor": 5
}
